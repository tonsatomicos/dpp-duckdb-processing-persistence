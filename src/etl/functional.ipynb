{
 "cells": [
  {
   "cell_type": "markdown",
   "metadata": {},
   "source": [
    "### Importing Libraries"
   ]
  },
  {
   "cell_type": "code",
   "execution_count": 1,
   "metadata": {},
   "outputs": [],
   "source": [
    "import os\n",
    "import duckdb\n",
    "import datetime\n",
    "import shutil\n",
    "\n",
    "from google.oauth2.credentials import Credentials\n",
    "from google.auth.transport.requests import Request\n",
    "from google_auth_oauthlib.flow import InstalledAppFlow\n",
    "from googleapiclient.discovery import build\n",
    "from dotenv import load_dotenv"
   ]
  },
  {
   "cell_type": "markdown",
   "metadata": {},
   "source": [
    "### Getting files from Google Drive"
   ]
  },
  {
   "cell_type": "code",
   "execution_count": null,
   "metadata": {},
   "outputs": [],
   "source": [
    "def download_gdrive_files_from_folder(credentials, raw_folder_items, processed_folder_items, folder_id):\n",
    "    try:\n",
    "        SCOPES = ['https://www.googleapis.com/auth/drive']\n",
    "        creds = None\n",
    "\n",
    "        if os.path.exists(os.path.join(credentials,'token.json')):\n",
    "            creds = Credentials.from_authorized_user_file(os.path.join(credentials,'token.json'))\n",
    "\n",
    "        if not creds or not creds.valid:\n",
    "            if creds and creds.expired and creds.refresh_token:\n",
    "                creds.refresh(Request())\n",
    "\n",
    "            else:\n",
    "                flow = InstalledAppFlow.from_client_secrets_file(\n",
    "                    os.path.join(credentials,'credentials.json'), SCOPES)\n",
    "                creds = flow.run_local_server(port=0)\n",
    "\n",
    "            with open(os.path.join(credentials,'token.json'), 'w') as token:\n",
    "                token.write(creds.to_json())\n",
    "\n",
    "        service = build('drive', 'v3', credentials=creds)\n",
    "\n",
    "        destination_folder = raw_folder_items\n",
    "        processed_folder = processed_folder_items\n",
    "\n",
    "        results = service.files().list(\n",
    "            q=f\"'{folder_id}' in parents\",\n",
    "            fields=\"files(id, name)\"\n",
    "        ).execute()\n",
    "\n",
    "        items = results.get('files', [])\n",
    "\n",
    "        if not items:\n",
    "            print('No files found.')\n",
    "\n",
    "        else:\n",
    "            for item in items:\n",
    "                file_id = item['id']\n",
    "                file_name = item['name']\n",
    "                destination_path = os.path.join(destination_folder, file_name)\n",
    "                processed_path = os.path.join(processed_folder, file_name)\n",
    "                \n",
    "                if os.path.exists(destination_path) or os.path.exists(processed_path):\n",
    "                    pass\n",
    "                else:\n",
    "                    request = service.files().get_media(fileId=file_id)\n",
    "                    with open(destination_path, 'wb') as f:\n",
    "                        f.write(request.execute())\n",
    "\n",
    "    except HttpError as e:\n",
    "        print(\"An HTTP error occurred during the download:\", e)\n",
    "\n",
    "    except OSError as e:\n",
    "        print(\"A system error occurred during the download:\", e)\n",
    "        \n",
    "    except Exception as e:\n",
    "        print(\"An error occurred during the download:\", e)"
   ]
  },
  {
   "cell_type": "markdown",
   "metadata": {},
   "source": [
    "### Processing and Persisting with DuckDB"
   ]
  },
  {
   "cell_type": "code",
   "execution_count": null,
   "metadata": {},
   "outputs": [],
   "source": [
    "def processing_persistence(raw_folder_items, processed_folder_items, date_now):\n",
    "    try:\n",
    "        conn = duckdb.connect(database=':memory:')\n",
    "        \n",
    "        conn.execute(\"INSTALL postgres\")\n",
    "        conn.execute(\"LOAD postgres\")\n",
    "        conn.execute(\"ATTACH 'dbname=unifor_duckdb user=unifor password=unifor host=localhost port=5437' AS db (TYPE postgres)\")\n",
    "        conn.execute(\"CREATE TEMPORARY TABLE temp_table (COD_UF VARCHAR, COD_MUN VARCHAR, COD_ESPECIE VARCHAR, LATITUDE VARCHAR, LONGITUDE VARCHAR, NV_GEO_COORD VARCHAR, NOME_ARQUIVO VARCHAR, DT_CADASTRO DATETIME)\")\n",
    "\n",
    "        for filename in os.listdir(raw_folder_items):\n",
    "            if filename.endswith(\".csv\"):\n",
    "                conn.execute(f\"INSERT INTO temp_table SELECT A.*, '{filename}' NOME_ARQUIVO, '{date_now}' DT_CADASTRO FROM read_csv('{os.path.join(raw_folder_items,filename)}', delim = ';', header = true) A\")\n",
    "                shutil.move(os.path.join(raw_folder_items,filename), os.path.join(processed_folder_items,filename))\n",
    "\n",
    "        conn.execute(\"INSERT INTO db.duckdb_ibge SELECT * FROM temp_table\")\n",
    "\n",
    "    except Exception as e:\n",
    "        print(\"An error occurred during processing:\", e)"
   ]
  },
  {
   "cell_type": "markdown",
   "metadata": {},
   "source": [
    "### Orchestrator"
   ]
  },
  {
   "cell_type": "code",
   "execution_count": null,
   "metadata": {},
   "outputs": [],
   "source": [
    "%%time\n",
    "\n",
    "def main():\n",
    "\n",
    "    date_now = datetime.datetime.now()\n",
    "    raw_folder_items = \"C://Tecnology//Projects//dpp-duckdb-processing-persistence//data//raw\"\n",
    "    processed_folder_items = \"C:/Tecnology//Projects//dpp-duckdb-processing-persistence//data//processed\"\n",
    "    credentials = 'C://Tecnology//Projects//dpp-duckdb-processing-persistence//config//credentials'\n",
    "    \n",
    "    dotenv_path = 'C://Tecnology//Projects//dpp-duckdb-processing-persistence//config//.env'\n",
    "    load_dotenv(dotenv_path)\n",
    "\n",
    "    download_gdrive_files_from_folder(credentials, raw_folder_items, processed_folder_items, folder_id=os.getenv(\"FOLDER_ID\"))\n",
    "    if os.listdir(raw_folder_items):\n",
    "        processing_persistence(raw_folder_items, processed_folder_items, date_now)\n",
    "\n",
    "\n",
    "if __name__ == '__main__':\n",
    "    main()"
   ]
  }
 ],
 "metadata": {
  "kernelspec": {
   "display_name": "Python 3 (ipykernel)",
   "language": "python",
   "name": "python3"
  },
  "language_info": {
   "codemirror_mode": {
    "name": "ipython",
    "version": 3
   },
   "file_extension": ".py",
   "mimetype": "text/x-python",
   "name": "python",
   "nbconvert_exporter": "python",
   "pygments_lexer": "ipython3",
   "version": "3.12.1"
  }
 },
 "nbformat": 4,
 "nbformat_minor": 4
}
