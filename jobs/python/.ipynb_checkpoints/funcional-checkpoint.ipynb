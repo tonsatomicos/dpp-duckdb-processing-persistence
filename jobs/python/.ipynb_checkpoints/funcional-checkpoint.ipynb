{
 "cells": [
  {
   "cell_type": "markdown",
   "metadata": {},
   "source": [
    "### Importing Libraries"
   ]
  },
  {
   "cell_type": "code",
   "execution_count": 1,
   "metadata": {},
   "outputs": [],
   "source": [
    "import os\n",
    "import duckdb\n",
    "import datetime\n",
    "import shutil\n",
    "\n",
    "from google.oauth2.credentials import Credentials\n",
    "from google.auth.transport.requests import Request\n",
    "from google_auth_oauthlib.flow import InstalledAppFlow\n",
    "from googleapiclient.discovery import build\n",
    "from dotenv import load_dotenv"
   ]
  },
  {
   "cell_type": "markdown",
   "metadata": {},
   "source": [
    "### Getting files from Google Drive"
   ]
  },
  {
   "cell_type": "code",
   "execution_count": 3,
   "metadata": {},
   "outputs": [],
   "source": [
    "def download_files_from_folder(FOLDER_ID):\n",
    "    SCOPES = ['https://www.googleapis.com/auth/drive']\n",
    "    creds = None\n",
    "\n",
    "    if os.path.exists('C://Tecnology//Projects//gdrive-duckdb-postgres//credentials//token.json'):\n",
    "        creds = Credentials.from_authorized_user_file('C://Tecnology//Projects//gdrive-duckdb-postgres//credentials//token.json')\n",
    "\n",
    "    if not creds or not creds.valid:\n",
    "        if creds and creds.expired and creds.refresh_token:\n",
    "            creds.refresh(Request())\n",
    "\n",
    "        else:\n",
    "            flow = InstalledAppFlow.from_client_secrets_file(\n",
    "                'C://Tecnology//Projects//gdrive-duckdb-postgres//credentials//credentials.json', SCOPES)\n",
    "            creds = flow.run_local_server(port=0)\n",
    "\n",
    "        with open('C://Tecnology//Projects//gdrive-duckdb-postgres//credentials//token.json', 'w') as token:\n",
    "            token.write(creds.to_json())\n",
    "\n",
    "    service = build('drive', 'v3', credentials=creds)\n",
    "\n",
    "    destination_folder = 'C://Tecnology//Projects//gdrive-duckdb-postgres//raw'\n",
    "    processed_folder = 'C://Tecnology//Projects//gdrive-duckdb-postgres//processed'  \n",
    "\n",
    "    results = service.files().list(\n",
    "        q=f\"'{FOLDER_ID}' in parents\",\n",
    "        fields=\"files(id, name)\"\n",
    "    ).execute()\n",
    "\n",
    "    items = results.get('files', [])\n",
    "\n",
    "    if not items:\n",
    "        print('No files found.')\n",
    "\n",
    "    else:\n",
    "        for item in items:\n",
    "            file_id = item['id']\n",
    "            file_name = item['name']\n",
    "            destination_path = os.path.join(destination_folder, file_name)\n",
    "            processed_path = os.path.join(processed_folder, file_name)\n",
    "            \n",
    "            if os.path.exists(destination_path) or os.path.exists(processed_path):\n",
    "                print(f\"The file '{file_name}' already exists in the destination folder.\")\n",
    "            else:\n",
    "                request = service.files().get_media(fileId=file_id)\n",
    "                with open(destination_path, 'wb') as f:\n",
    "                    f.write(request.execute())\n",
    "                    # print(f\"Downloaded {file_name}\")"
   ]
  },
  {
   "cell_type": "markdown",
   "metadata": {},
   "source": [
    "### Reading CSV with Duckdb and load into postgres"
   ]
  },
  {
   "cell_type": "code",
   "execution_count": 6,
   "metadata": {},
   "outputs": [
    {
     "data": {
      "text/plain": [
       "<duckdb.duckdb.DuckDBPyConnection at 0x1d729140bf0>"
      ]
     },
     "execution_count": 6,
     "metadata": {},
     "output_type": "execute_result"
    }
   ],
   "source": [
    "conn = duckdb.connect(database=':memory:')\n",
    "conn.execute(\"CREATE TEMPORARY TABLE temp_table (COD_UF VARCHAR, COD_MUN VARCHAR, COD_ESPECIE VARCHAR, LATITUDE VARCHAR, LONGITUDE VARCHAR, NV_GEO_COORD VARCHAR, NOME_ARQUIVO VARCHAR, DT_CADASTRO DATETIME)\")"
   ]
  },
  {
   "cell_type": "code",
   "execution_count": 8,
   "metadata": {},
   "outputs": [],
   "source": [
    "raw_folder = \"C://Tecnology//Projects//gdrive-duckdb-postgres//raw\"\n",
    "processed_folder = \"C://Tecnology//Projects//gdrive-duckdb-postgres//processed\"\n",
    "\n",
    "# Iterar sobre os arquivos na pasta \"raw\"\n",
    "for filename in os.listdir(raw_folder):\n",
    "    date_now = datetime.datetime.now()\n",
    "\n",
    "    if filename.endswith(\".csv\"):\n",
    "        conn.execute(f\"INSERT INTO temp_table SELECT A.*, '{filename}' NOME_ARQUIVO, '{date_now}' DT_CADASTRO FROM read_csv('raw/{filename}', delim = ';', header = true) A\")\n",
    "        shutil.move(f\"{raw_folder}/{filename}\",f\"{processed_folder}/{filename}\")"
   ]
  },
  {
   "cell_type": "code",
   "execution_count": 49,
   "metadata": {},
   "outputs": [
    {
     "data": {
      "text/plain": [
       "<duckdb.duckdb.DuckDBPyConnection at 0x28b104e33f0>"
      ]
     },
     "execution_count": 49,
     "metadata": {},
     "output_type": "execute_result"
    }
   ],
   "source": [
    "conn.execute(\"INSTALL postgres\")\n",
    "conn.execute(\"LOAD postgres\")\n",
    "conn.execute(\"ATTACH 'dbname=testes user=lucas password=lucas host=localhost port=5437' AS db (TYPE postgres)\")\n",
    "conn.execute(\"INSERT INTO db.enderecos SELECT * FROM temp_table\")"
   ]
  },
  {
   "cell_type": "code",
   "execution_count": 71,
   "metadata": {},
   "outputs": [
    {
     "data": {
      "text/plain": [
       "<duckdb.duckdb.DuckDBPyConnection at 0x28b104e33f0>"
      ]
     },
     "execution_count": 71,
     "metadata": {},
     "output_type": "execute_result"
    }
   ],
   "source": [
    "conn.execute(\"ATTACH 'dbname=testes user=lucas password=lucas host=localhost port=5437' AS db (TYPE postgres, READ_ONLY)\")"
   ]
  },
  {
   "cell_type": "code",
   "execution_count": 80,
   "metadata": {},
   "outputs": [
    {
     "data": {
      "text/plain": [
       "<duckdb.duckdb.DuckDBPyConnection at 0x28b104e33f0>"
      ]
     },
     "execution_count": 80,
     "metadata": {},
     "output_type": "execute_result"
    }
   ],
   "source": [
    "conn.execute(\"ATTACH 'dbname=testes user=lucas password=lucas host=localhost port=5437' AS db_final1 (TYPE postgres)\")\n",
    "conn.execute(\"INSERT INTO db_final1.enderecos SELECT * FROM temp_table\")"
   ]
  },
  {
   "cell_type": "code",
   "execution_count": 5,
   "metadata": {},
   "outputs": [],
   "source": [
    "def main():\n",
    "    load_dotenv()\n",
    "    download_files_from_folder(FOLDER_ID=os.getenv(\"FOLDER_ID\"))\n",
    "\n",
    "if __name__ == '__main__':\n",
    "    main()"
   ]
  }
 ],
 "metadata": {
  "kernelspec": {
   "display_name": "Python 3",
   "language": "python",
   "name": "python3"
  },
  "language_info": {
   "codemirror_mode": {
    "name": "ipython",
    "version": 3
   },
   "file_extension": ".py",
   "mimetype": "text/x-python",
   "name": "python",
   "nbconvert_exporter": "python",
   "pygments_lexer": "ipython3",
   "version": "3.12.2"
  }
 },
 "nbformat": 4,
 "nbformat_minor": 2
}
